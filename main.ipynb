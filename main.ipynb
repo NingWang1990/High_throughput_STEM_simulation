{
 "cells": [
  {
   "cell_type": "code",
   "execution_count": 119,
   "metadata": {},
   "outputs": [],
   "source": [
    "import matplotlib.pyplot as plt\n",
    "from ase.io import read,write\n",
    "import numpy as np\n",
    "from ase import Atoms\n",
    "from abtem import *\n",
    "from abtem.scan import GridScan\n",
    "import time\n",
    "import glob\n",
    "import os\n"
   ]
  },
  {
   "cell_type": "code",
   "execution_count": 141,
   "metadata": {},
   "outputs": [
    {
     "data": {
      "text/plain": [
       "256"
      ]
     },
     "execution_count": 141,
     "metadata": {},
     "output_type": "execute_result"
    }
   ],
   "source": [
    "os.system('rm POSCAR*')"
   ]
  },
  {
   "cell_type": "code",
   "execution_count": 144,
   "metadata": {},
   "outputs": [
    {
     "data": {
      "text/plain": [
       "256"
      ]
     },
     "execution_count": 144,
     "metadata": {},
     "output_type": "execute_result"
    }
   ],
   "source": [
    "os.system('unzip raw_data/POSCAR_RHEA.zip')"
   ]
  },
  {
   "cell_type": "code",
   "execution_count": 145,
   "metadata": {},
   "outputs": [],
   "source": [
    "files = glob.glob('POSCAR_*K*')"
   ]
  },
  {
   "cell_type": "code",
   "execution_count": 146,
   "metadata": {},
   "outputs": [],
   "source": [
    "for file in files:\n",
    "    os.rename(file, file+'_Zaxis100')"
   ]
  },
  {
   "cell_type": "markdown",
   "metadata": {},
   "source": [
    "## to generate a box with c-vector [1,1,0]\n",
    "the original box has a c vector [1,0,0]\n",
    "\n",
    "the new box: a-vector: [0,0,1], b-vector[1,-1,0], c-vector[1,1,0]\n"
   ]
  },
  {
   "cell_type": "code",
   "execution_count": 147,
   "metadata": {},
   "outputs": [],
   "source": [
    "def generate_110_box(atoms):\n",
    "    \n",
    "    cell_old = atoms.get_cell()\n",
    "    atoms = atoms.repeat((1,2,2))\n",
    "    cell = atoms.get_cell()\n",
    "    center = (0,cell[1,1]*0.5,cell[2,2]*0.5)\n",
    "    atoms.rotate(45,'x', center)\n",
    "\n",
    "    width = cell_old[1,1]\n",
    "    thickness = cell_old[2,2]\n",
    "    mask = (atoms.positions[:,1] <= center[1]+width/2.)   & \\\n",
    "           (atoms.positions[:,1] >  center[1] - width/2.) & \\\n",
    "           (atoms.positions[:,2] <= center[2]+thickness/2.)   & \\\n",
    "           (atoms.positions[:,2] > center[2] - thickness/2.) \n",
    "    atoms = atoms[mask]\n",
    "    positions = atoms.get_positions()\n",
    "    positions[:,1] = positions[:,1] - np.mean(positions[:,1]) + width/2.\n",
    "    positions[:,2] = positions[:,2] - np.mean(positions[:,2]) + thickness/2.\n",
    "    atoms.set_positions(positions)\n",
    "    cell_0 = atoms.get_cell()[0,0]\n",
    "    atoms.set_cell((cell_0,width, thickness),scale_atoms=False)\n",
    "    return atoms"
   ]
  },
  {
   "cell_type": "code",
   "execution_count": 149,
   "metadata": {},
   "outputs": [],
   "source": [
    "files = glob.glob('POSCAR_*K*')\n",
    "for file in files:\n",
    "    atoms = read(file)\n",
    "    _, temperature, index, axis = file.split('_')\n",
    "    atoms = generate_110_box(atoms)\n",
    "    write('POSCAR_'+temperature+'_'+index+'_Zaxis110',atoms,format='vasp')"
   ]
  },
  {
   "cell_type": "markdown",
   "metadata": {},
   "source": [
    "\n",
    "## Hyperparameters"
   ]
  },
  {
   "cell_type": "code",
   "execution_count": 169,
   "metadata": {},
   "outputs": [],
   "source": [
    "interpolation = 6"
   ]
  },
  {
   "cell_type": "markdown",
   "metadata": {},
   "source": [
    "## Frozen phonon\n",
    "Here I simply used a sigma of 0.1 Angstrom.\n",
    "If MTP potential works well, we may take snapshots from thermostat MD directly."
   ]
  },
  {
   "cell_type": "code",
   "execution_count": 170,
   "metadata": {},
   "outputs": [],
   "source": [
    "def job_writer(filename):\n",
    "    job_filename = 'job_'+filename\n",
    "    python_filename = filename + '.py'\n",
    "    outf = open(job_filename, 'w')\n",
    "    outf.write(\"#!/bin/bash -l\\n\")\n",
    "    outf.write(\"# Standard output and error:\\n\")\n",
    "    outf.write(\"#SBATCH -o ./tjob_hybrid.out.%j\\n\")\n",
    "    outf.write(\"#SBATCH -e ./tjob_hybrid.err.%j\\n\")\n",
    "    outf.write(\"# Initial working directory:\\n\")\n",
    "    outf.write(\"#SBATCH -D ./\\n\")\n",
    "    outf.write(\"# Job Name:\\n\")\n",
    "    outf.write(\"#SBATCH -J {}\\n\".format(filename))\n",
    "    outf.write(\"# Queue (Partition):\\n\")\n",
    "    outf.write(\"#SBATCH --partition=p.talos\\n\")\n",
    "    outf.write(\"# Number of nodes and MPI tasks per node:\\n\")\n",
    "    outf.write(\"#SBATCH --nodes=1\\n\")\n",
    "    outf.write(\"#SBATCH --ntasks-per-node=20\\n\")    \n",
    "    outf.write(\"# for GPU\\n\")\n",
    "    outf.write(\"#SBATCH --gres=gpu:1\\n\")\n",
    "    outf.write(\"#SBATCH --mail-type=none\\n\")\n",
    "    outf.write(\"#SBATCH --mail-user=nwang@mpie.de\\n\")\n",
    "    outf.write(\"# Wall clock limit:\\n\")\n",
    "    outf.write(\"#SBATCH --time=96:00:00\\n\")\n",
    "    outf.write(\"\\nconda activate abtem\\n\\n\")\n",
    "    outf.write(\"# Run the program:\\n\")\n",
    "    outf.write(\"python {}\".format(python_filename))\n",
    "    outf.close()    "
   ]
  },
  {
   "cell_type": "code",
   "execution_count": 171,
   "metadata": {},
   "outputs": [],
   "source": [
    "def python_script_writer(filename='run',\n",
    "                         poscar_file='POSCAR',\n",
    "                         interpolation=8):\n",
    "    python_filename = filename + '.py'\n",
    "    output_filename = filename + '.hdf5'\n",
    "    outf = open(python_filename, 'w')\n",
    "    outf.write(\"from ase.io import read\\n\")\n",
    "    outf.write(\"from abtem import *\\n\")\n",
    "    outf.write(\"from abtem.scan import GridScan\\n\")\n",
    "    outf.write(\"import time\\n\")\n",
    "    outf.write(\"atoms = read('{}',format='vasp')\\n\".format(poscar_file))\n",
    "    \n",
    "    outf.write(\"sigma = 0.1\\n\")\n",
    "    outf.write(\"frozen_phonons = FrozenPhonons(atoms, num_configs=12, sigmas=[sigma,]*len(atoms), seed=1001)\\n\")\n",
    "    outf.write(\"potential = Potential(frozen_phonons,slice_thickness=0.5, sampling=0.024, device='cpu')\\n\")\n",
    "    outf.write(\"cell = atoms.get_cell()\\n\")\n",
    "    outf.write(\"interpolation = %d\\n\" % (interpolation,))\n",
    "    outf.write(\"S = SMatrix(expansion_cutoff=28,\\n\")\n",
    "    outf.write(\"            interpolation=interpolation,\\n\")\n",
    "    outf.write(\"            energy=300e3,\\n\")\n",
    "    outf.write(\"            semiangle_cutoff=24,\\n\")\n",
    "    outf.write(\"            defocus=0,\\n\")\n",
    "    outf.write(\"            focal_spread=60,\\n\")\n",
    "    outf.write(\"             device='gpu',\\n\")\n",
    "    outf.write(\"             storage='cpu')\\n\")\n",
    "    outf.write(\"detector = AnnularDetector(inner=95, outer=200, save_file='{}')\\n\".format(output_filename))\n",
    "    outf.write(\"gridscan = GridScan(start=[0, 0], end=[cell[0,0], cell[1,1]], sampling=0.125)\\n\")\n",
    "    outf.write(\"start_time = time.time()\\n\")\n",
    "    outf.write(\"measurements = S.scan(gridscan, [detector], potential)\\n\")\n",
    "    outf.write(\"time_cost = time.time() - start_time\\n\")\n",
    "    outf.write(\"out_time = open('time_cost.dat','a')\\n\")\n",
    "    filename, _ = python_filename.split('.')\n",
    "    outf.write(\"out_time.write('{}: %8.2f [s]\\\\n' % (time_cost,))\\n\".format(filename))\n",
    "    outf.write(\"out_time.close()\\n\")\n",
    "    outf.close()"
   ]
  },
  {
   "cell_type": "code",
   "execution_count": 172,
   "metadata": {},
   "outputs": [],
   "source": [
    "files = glob.glob('POSCAR_*K*')\n",
    "for file in files:\n",
    "    _, temperature, index, axis = file.split('_')    \n",
    "    filename = temperature + '_' + index\n",
    "    filename = '{}_interp_{}_'.format(axis,interpolation)+filename\n",
    "    python_script_writer(filename=filename,\n",
    "                         poscar_file = file,\n",
    "                         interpolation=interpolation)\n",
    "    job_writer(filename)\n",
    "    job_filename = 'job_'+filename\n",
    "    os.system('sbatch {}'.format(job_filename))"
   ]
  },
  {
   "cell_type": "markdown",
   "metadata": {},
   "source": [
    "## A quick test in jupyter notebook"
   ]
  },
  {
   "cell_type": "code",
   "execution_count": 23,
   "metadata": {},
   "outputs": [],
   "source": [
    "atoms = read('POSCAR_1520K_2',format='vasp')\n",
    "sigma = 0.1\n",
    "frozen_phonons = FrozenPhonons(atoms, n_configs = 12,[sigma,]*len(atoms), seed=1)\n",
    "potential = Potential(frozen_phonons,slice_thickness=0.5, sampling=0.024, device='cpu')\n",
    "cell = atoms.get_cell()\n",
    "interpolation = 8\n",
    "S = SMatrix(expansion_cutoff=28,\n",
    "            interpolation=interpolation,\n",
    "            energy=300e3,\n",
    "            semiangle_cutoff=24,\n",
    "            defocus=0,\n",
    "            focal_spread=60,\n",
    "            device='gpu',\n",
    "            storage='cpu')\n",
    "\n",
    "detector = AnnularDetector(inner=95, outer=200, save_file='prism_interpolation_6.hdf5')\n",
    "gridscan = GridScan(start=[0, 0], end=[cell[0,0], cell[1,1]], sampling=0.125)\n",
    "start_time = time.time()\n",
    "measurements = S.scan(gridscan, [detector], potential)\n",
    "print ('time cost: %8.2f' % (time.time()-start_time,))"
   ]
  },
  {
   "cell_type": "code",
   "execution_count": 25,
   "metadata": {},
   "outputs": [
    {
     "data": {
      "application/vnd.jupyter.widget-view+json": {
       "model_id": "b8f5cc69374349f8924885950776a87e",
       "version_major": 2,
       "version_minor": 0
      },
      "text/plain": [
       "HBox(children=(HTML(value='Scan'), FloatProgress(value=0.0, max=149769.0), HTML(value='')))"
      ]
     },
     "metadata": {},
     "output_type": "display_data"
    },
    {
     "data": {
      "application/vnd.jupyter.widget-view+json": {
       "model_id": "faf32ab16d3c4beaac3ed4a90d7a07b7",
       "version_major": 2,
       "version_minor": 0
      },
      "text/plain": [
       "HBox(children=(HTML(value='Potential'), FloatProgress(value=0.0, max=97.0), HTML(value='')))"
      ]
     },
     "metadata": {},
     "output_type": "display_data"
    },
    {
     "data": {
      "application/vnd.jupyter.widget-view+json": {
       "model_id": "e7e38ca6ac3b48a785c1c33ed0db09ed",
       "version_major": 2,
       "version_minor": 0
      },
      "text/plain": [
       "HBox(children=(HTML(value='Multislice'), FloatProgress(value=0.0, max=233.0), HTML(value='')))"
      ]
     },
     "metadata": {},
     "output_type": "display_data"
    },
    {
     "name": "stdout",
     "output_type": "stream",
     "text": [
      "\n",
      "\n",
      "\n",
      "time cost:   408.17\n"
     ]
    }
   ],
   "source": [
    "start_time = time.time()\n",
    "measurements = S.scan(gridscan, [detector], potential)\n",
    "print ('time cost: %8.2f' % (time.time()-start_time,))"
   ]
  },
  {
   "cell_type": "code",
   "execution_count": 26,
   "metadata": {},
   "outputs": [],
   "source": [
    "from abtem.measure import Measurement\n",
    "measurement = Measurement.read('prism_interpolation_6.hdf5')"
   ]
  },
  {
   "cell_type": "code",
   "execution_count": 27,
   "metadata": {},
   "outputs": [
    {
     "data": {
      "image/png": "[encoded data removed]",
      "text/plain": [
       "<Figure size 432x288 with 1 Axes>"
      ]
     },
     "metadata": {
      "needs_background": "light"
     },
     "output_type": "display_data"
    }
   ],
   "source": [
    "measurement.show();"
   ]
  }
 ],
 "metadata": {
  "kernelspec": {
   "display_name": "Python 3",
   "language": "python",
   "name": "python3"
  },
  "language_info": {
   "codemirror_mode": {
    "name": "ipython",
    "version": 3
   },
   "file_extension": ".py",
   "mimetype": "text/x-python",
   "name": "python",
   "nbconvert_exporter": "python",
   "pygments_lexer": "ipython3",
   "version": "3.8.5"
  }
 },
 "nbformat": 4,
 "nbformat_minor": 4
}
